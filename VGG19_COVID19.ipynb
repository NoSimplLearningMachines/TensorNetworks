{
 "cells": [
  {
   "cell_type": "code",
   "execution_count": 6,
   "metadata": {},
   "outputs": [],
   "source": [
    "import sys\n",
    "\n",
    "#sys.path.append('/home/mashjunior/anaconda3/envs/james_tensor')"
   ]
  },
  {
   "cell_type": "code",
   "execution_count": 11,
   "metadata": {},
   "outputs": [
    {
     "name": "stdout",
     "output_type": "stream",
     "text": [
      "Collecting package metadata (current_repodata.json): \\ ^C\n",
      "/ "
     ]
    }
   ],
   "source": [
    "#!conda install --channel https://conda.anaconda.org/menpo opencv3"
   ]
  },
  {
   "cell_type": "code",
   "execution_count": 12,
   "metadata": {
    "executionInfo": {
     "elapsed": 392,
     "status": "ok",
     "timestamp": 1633545400426,
     "user": {
      "displayName": "Risuna Wisdom",
      "photoUrl": "https://lh3.googleusercontent.com/a-/AOh14GimlNqRpN_o9anbTg8yu0iib6mkLj125ZiN2bRIRA=s64",
      "userId": "05011745289129550000"
     },
     "user_tz": -120
    },
    "id": "gJKOM-9bf-Dr"
   },
   "outputs": [],
   "source": [
    "import numpy as np\n",
    "import pandas as pd\n",
    "import os\n",
    "import cv2\n",
    "import matplotlib.pyplot as plt"
   ]
  },
  {
   "cell_type": "code",
   "execution_count": 13,
   "metadata": {
    "colab": {
     "base_uri": "https://localhost:8080/"
    },
    "executionInfo": {
     "elapsed": 23120,
     "status": "ok",
     "timestamp": 1633545432453,
     "user": {
      "displayName": "Risuna Wisdom",
      "photoUrl": "https://lh3.googleusercontent.com/a-/AOh14GimlNqRpN_o9anbTg8yu0iib6mkLj125ZiN2bRIRA=s64",
      "userId": "05011745289129550000"
     },
     "user_tz": -120
    },
    "id": "r2MjOoKbc_KG",
    "outputId": "4c66707e-00e1-4b30-e9af-077258515cbf"
   },
   "outputs": [],
   "source": [
    "#from google.colab import drive\n",
    "\n",
    "\n",
    "#if os.path.exists('/content/drive')==False:\n",
    "#    drive.mount('/content/drive')\n",
    "#    print('Google Drive is mounted\\n')\n",
    "#else:\n",
    "#    print('Google Drive is already mounted\\n')"
   ]
  },
  {
   "cell_type": "code",
   "execution_count": 14,
   "metadata": {
    "executionInfo": {
     "elapsed": 379,
     "status": "ok",
     "timestamp": 1633546999755,
     "user": {
      "displayName": "Risuna Wisdom",
      "photoUrl": "https://lh3.googleusercontent.com/a-/AOh14GimlNqRpN_o9anbTg8yu0iib6mkLj125ZiN2bRIRA=s64",
      "userId": "05011745289129550000"
     },
     "user_tz": -120
    },
    "id": "kd0EaqcWBKsq"
   },
   "outputs": [],
   "source": [
    "train_path=\"/home/mashjunior/loTeNet_pytorch/Covid-19_images/COVID-19_Radiography/COVID-19 Radiography Database/train\"\n",
    "# test_path=\"/content/drive/My Drive/Colab Notebooks/CXR_Covid-19_Challenge/test\"\n",
    "val_path=\"/home/mashjunior/loTeNet_pytorch/Covid-19_images/COVID-19_Radiography/COVID-19 Radiography Database/valid\""
   ]
  },
  {
   "cell_type": "code",
   "execution_count": 15,
   "metadata": {
    "executionInfo": {
     "elapsed": 1029439,
     "status": "ok",
     "timestamp": 1633546463727,
     "user": {
      "displayName": "Risuna Wisdom",
      "photoUrl": "https://lh3.googleusercontent.com/a-/AOh14GimlNqRpN_o9anbTg8yu0iib6mkLj125ZiN2bRIRA=s64",
      "userId": "05011745289129550000"
     },
     "user_tz": -120
    },
    "id": "scg__2rmBKwp"
   },
   "outputs": [],
   "source": [
    "x_train=[]\n",
    "\n",
    "for folder in os.listdir(train_path):\n",
    "\n",
    "    sub_path=train_path+\"/\"+folder\n",
    "\n",
    "    for img in os.listdir(sub_path):\n",
    "\n",
    "        image_path=sub_path+\"/\"+img\n",
    "\n",
    "        img_arr=cv2.imread(image_path)\n",
    "\n",
    "        img_arr=cv2.resize(img_arr,(224,224))\n",
    "\n",
    "        x_train.append(img_arr)"
   ]
  },
  {
   "cell_type": "code",
   "execution_count": 16,
   "metadata": {
    "executionInfo": {
     "elapsed": 193107,
     "status": "ok",
     "timestamp": 1633546656829,
     "user": {
      "displayName": "Risuna Wisdom",
      "photoUrl": "https://lh3.googleusercontent.com/a-/AOh14GimlNqRpN_o9anbTg8yu0iib6mkLj125ZiN2bRIRA=s64",
      "userId": "05011745289129550000"
     },
     "user_tz": -120
    },
    "id": "2fdro77EFzHq"
   },
   "outputs": [],
   "source": [
    "# x_test=[]\n",
    "\n",
    "# for folder in os.listdir(test_path):\n",
    "\n",
    "#     sub_path=test_path+\"/\"+folder\n",
    "\n",
    "#     for img in os.listdir(sub_path):\n",
    "\n",
    "#         image_path=sub_path+\"/\"+img\n",
    "\n",
    "#         img_arr=cv2.imread(image_path)\n",
    "\n",
    "#         img_arr=cv2.resize(img_arr,(224,224))\n",
    "\n",
    "#         x_test.append(img_arr)"
   ]
  },
  {
   "cell_type": "code",
   "execution_count": 17,
   "metadata": {
    "executionInfo": {
     "elapsed": 145421,
     "status": "ok",
     "timestamp": 1633546802235,
     "user": {
      "displayName": "Risuna Wisdom",
      "photoUrl": "https://lh3.googleusercontent.com/a-/AOh14GimlNqRpN_o9anbTg8yu0iib6mkLj125ZiN2bRIRA=s64",
      "userId": "05011745289129550000"
     },
     "user_tz": -120
    },
    "id": "1vo-V5YUCBEl"
   },
   "outputs": [],
   "source": [
    "x_val=[]\n",
    "\n",
    "for folder in os.listdir(val_path):\n",
    "\n",
    "    sub_path=val_path+\"/\"+folder\n",
    "\n",
    "    for img in os.listdir(sub_path):\n",
    "\n",
    "        image_path=sub_path+\"/\"+img\n",
    "\n",
    "        img_arr=cv2.imread(image_path)\n",
    "\n",
    "        img_arr=cv2.resize(img_arr,(224,224))\n",
    "\n",
    "        x_val.append(img_arr)"
   ]
  },
  {
   "cell_type": "code",
   "execution_count": 18,
   "metadata": {
    "executionInfo": {
     "elapsed": 636,
     "status": "ok",
     "timestamp": 1633546804117,
     "user": {
      "displayName": "Risuna Wisdom",
      "photoUrl": "https://lh3.googleusercontent.com/a-/AOh14GimlNqRpN_o9anbTg8yu0iib6mkLj125ZiN2bRIRA=s64",
      "userId": "05011745289129550000"
     },
     "user_tz": -120
    },
    "id": "UliKTzndCIJe"
   },
   "outputs": [],
   "source": [
    "train_x=np.array(x_train)\n",
    "# test_x=np.array(x_test)\n",
    "val_x=np.array(x_val)"
   ]
  },
  {
   "cell_type": "code",
   "execution_count": 19,
   "metadata": {
    "id": "sZ2Xdb6HCkSH"
   },
   "outputs": [],
   "source": [
    "train_x=train_x/255.0\n",
    "# test_x=test_x/255.0\n",
    "val_x=val_x/255.0"
   ]
  },
  {
   "cell_type": "code",
   "execution_count": 20,
   "metadata": {
    "id": "cTvbhv1NHErT"
   },
   "outputs": [
    {
     "name": "stderr",
     "output_type": "stream",
     "text": [
      "/home/mashjunior/anaconda3/envs/james_tensor/lib/python3.6/site-packages/tensorflow/python/framework/dtypes.py:516: FutureWarning: Passing (type, 1) or '1type' as a synonym of type is deprecated; in a future version of numpy, it will be understood as (type, (1,)) / '(1,)type'.\n",
      "  _np_qint8 = np.dtype([(\"qint8\", np.int8, 1)])\n",
      "/home/mashjunior/anaconda3/envs/james_tensor/lib/python3.6/site-packages/tensorflow/python/framework/dtypes.py:517: FutureWarning: Passing (type, 1) or '1type' as a synonym of type is deprecated; in a future version of numpy, it will be understood as (type, (1,)) / '(1,)type'.\n",
      "  _np_quint8 = np.dtype([(\"quint8\", np.uint8, 1)])\n",
      "/home/mashjunior/anaconda3/envs/james_tensor/lib/python3.6/site-packages/tensorflow/python/framework/dtypes.py:518: FutureWarning: Passing (type, 1) or '1type' as a synonym of type is deprecated; in a future version of numpy, it will be understood as (type, (1,)) / '(1,)type'.\n",
      "  _np_qint16 = np.dtype([(\"qint16\", np.int16, 1)])\n",
      "/home/mashjunior/anaconda3/envs/james_tensor/lib/python3.6/site-packages/tensorflow/python/framework/dtypes.py:519: FutureWarning: Passing (type, 1) or '1type' as a synonym of type is deprecated; in a future version of numpy, it will be understood as (type, (1,)) / '(1,)type'.\n",
      "  _np_quint16 = np.dtype([(\"quint16\", np.uint16, 1)])\n",
      "/home/mashjunior/anaconda3/envs/james_tensor/lib/python3.6/site-packages/tensorflow/python/framework/dtypes.py:520: FutureWarning: Passing (type, 1) or '1type' as a synonym of type is deprecated; in a future version of numpy, it will be understood as (type, (1,)) / '(1,)type'.\n",
      "  _np_qint32 = np.dtype([(\"qint32\", np.int32, 1)])\n",
      "/home/mashjunior/anaconda3/envs/james_tensor/lib/python3.6/site-packages/tensorflow/python/framework/dtypes.py:525: FutureWarning: Passing (type, 1) or '1type' as a synonym of type is deprecated; in a future version of numpy, it will be understood as (type, (1,)) / '(1,)type'.\n",
      "  np_resource = np.dtype([(\"resource\", np.ubyte, 1)])\n",
      "/home/mashjunior/anaconda3/envs/james_tensor/lib/python3.6/site-packages/tensorboard/compat/tensorflow_stub/dtypes.py:541: FutureWarning: Passing (type, 1) or '1type' as a synonym of type is deprecated; in a future version of numpy, it will be understood as (type, (1,)) / '(1,)type'.\n",
      "  _np_qint8 = np.dtype([(\"qint8\", np.int8, 1)])\n",
      "/home/mashjunior/anaconda3/envs/james_tensor/lib/python3.6/site-packages/tensorboard/compat/tensorflow_stub/dtypes.py:542: FutureWarning: Passing (type, 1) or '1type' as a synonym of type is deprecated; in a future version of numpy, it will be understood as (type, (1,)) / '(1,)type'.\n",
      "  _np_quint8 = np.dtype([(\"quint8\", np.uint8, 1)])\n",
      "/home/mashjunior/anaconda3/envs/james_tensor/lib/python3.6/site-packages/tensorboard/compat/tensorflow_stub/dtypes.py:543: FutureWarning: Passing (type, 1) or '1type' as a synonym of type is deprecated; in a future version of numpy, it will be understood as (type, (1,)) / '(1,)type'.\n",
      "  _np_qint16 = np.dtype([(\"qint16\", np.int16, 1)])\n",
      "/home/mashjunior/anaconda3/envs/james_tensor/lib/python3.6/site-packages/tensorboard/compat/tensorflow_stub/dtypes.py:544: FutureWarning: Passing (type, 1) or '1type' as a synonym of type is deprecated; in a future version of numpy, it will be understood as (type, (1,)) / '(1,)type'.\n",
      "  _np_quint16 = np.dtype([(\"quint16\", np.uint16, 1)])\n",
      "/home/mashjunior/anaconda3/envs/james_tensor/lib/python3.6/site-packages/tensorboard/compat/tensorflow_stub/dtypes.py:545: FutureWarning: Passing (type, 1) or '1type' as a synonym of type is deprecated; in a future version of numpy, it will be understood as (type, (1,)) / '(1,)type'.\n",
      "  _np_qint32 = np.dtype([(\"qint32\", np.int32, 1)])\n",
      "/home/mashjunior/anaconda3/envs/james_tensor/lib/python3.6/site-packages/tensorboard/compat/tensorflow_stub/dtypes.py:550: FutureWarning: Passing (type, 1) or '1type' as a synonym of type is deprecated; in a future version of numpy, it will be understood as (type, (1,)) / '(1,)type'.\n",
      "  np_resource = np.dtype([(\"resource\", np.ubyte, 1)])\n"
     ]
    }
   ],
   "source": [
    "from tensorflow.keras.preprocessing import image\n",
    "from tensorflow.keras.preprocessing.image import ImageDataGenerator"
   ]
  },
  {
   "cell_type": "code",
   "execution_count": 21,
   "metadata": {
    "id": "5eFowdxZCrNX"
   },
   "outputs": [],
   "source": [
    "train_datagen = ImageDataGenerator(rescale = 1./255)\n",
    "# test_datagen = ImageDataGenerator(rescale = 1./255)\n",
    "val_datagen = ImageDataGenerator(rescale = 1./255)"
   ]
  },
  {
   "cell_type": "code",
   "execution_count": 22,
   "metadata": {
    "id": "UC8eWFHHCBIF"
   },
   "outputs": [
    {
     "name": "stdout",
     "output_type": "stream",
     "text": [
      "Found 1800 images belonging to 3 classes.\n",
      "Found 1200 images belonging to 3 classes.\n"
     ]
    }
   ],
   "source": [
    "training_set = train_datagen.flow_from_directory(train_path,\n",
    "                                                 target_size = (224, 224),\n",
    "                                                 batch_size = 32,\n",
    "                                                 class_mode = 'categorical')\n",
    "# test_set = test_datagen.flow_from_directory(test_path,\n",
    "#                                             target_size = (224, 224),\n",
    "#                                             batch_size = 32,\n",
    "#                                             class_mode = 'categorical')\n",
    "val_set = val_datagen.flow_from_directory(val_path,\n",
    "                                            target_size = (224, 224),\n",
    "                                            batch_size = 32,\n",
    "                                            class_mode = 'categorical')"
   ]
  },
  {
   "cell_type": "code",
   "execution_count": 23,
   "metadata": {
    "id": "Kq1RC1zqLOk1"
   },
   "outputs": [],
   "source": [
    "train_y=training_set.classes\n",
    "# test_y=test_set.classes\n",
    "val_y=val_set.classes"
   ]
  },
  {
   "cell_type": "code",
   "execution_count": 24,
   "metadata": {
    "id": "l-1fJzoPLVfy"
   },
   "outputs": [
    {
     "data": {
      "text/plain": [
       "((1800,), (1200,))"
      ]
     },
     "execution_count": 24,
     "metadata": {},
     "output_type": "execute_result"
    }
   ],
   "source": [
    "#train_y.shape,test_y.shape,val_y.shape\n",
    "train_y.shape,val_y.shape"
   ]
  },
  {
   "cell_type": "code",
   "execution_count": 26,
   "metadata": {
    "id": "xOne_T_1jdVD"
   },
   "outputs": [
    {
     "name": "stderr",
     "output_type": "stream",
     "text": [
      "Using TensorFlow backend.\n"
     ]
    }
   ],
   "source": [
    "from __future__ import print_function\n",
    "\n",
    "import numpy as np\n",
    "from random import shuffle\n",
    "import time\n",
    "import csv\n",
    "from PIL import Image\n",
    "import os\n",
    "import tensorflow as tf\n",
    "import keras\n",
    "from tensorflow.keras.callbacks import EarlyStopping, LearningRateScheduler\n",
    "from tensorflow.keras import initializers\n",
    "from tensorflow.keras.optimizers import SGD\n",
    "from tensorflow.keras.preprocessing import sequence\n",
    "from keras.utils import np_utils\n",
    "from tensorflow.keras.models import Sequential,load_model,Model\n",
    "from tensorflow.keras.layers import Dense, Dropout, Activation, Flatten\n",
    "from tensorflow.keras.layers import *\n",
    "from tensorflow.keras.callbacks import CSVLogger\n",
    "from tensorflow.keras import callbacks\n",
    "from tensorflow.keras.preprocessing.image import ImageDataGenerator\n",
    "\n",
    "from sklearn.metrics import classification_report\n",
    "from sklearn.model_selection import train_test_split\n",
    "import sklearn.metrics as sklm"
   ]
  },
  {
   "cell_type": "code",
   "execution_count": 27,
   "metadata": {
    "id": "UEL8gSrOjdZg"
   },
   "outputs": [],
   "source": [
    "# for reproducibility\n",
    "np.random.seed(3768)\n",
    "\n",
    "# use this environment flag to change which GPU to use \n",
    "os.environ[\"CUDA_DEVICE_ORDER\"]=\"PCI_BUS_ID\"\n",
    "os.environ[\"CUDA_VISIBLE_DEVICES\"]=\"0\"  # specify which GPU(s) to be used\n",
    "\n",
    "#Get TensorFlow session\n",
    "def get_session():\n",
    "    config = tf.ConfigProto() \n",
    "    config.gpu_options.allow_growth = True \n",
    "    return tf.Session(config=config) \n",
    "  \n",
    "# One hot encoding of labels \n",
    "def dense_to_one_hot(labels_dense,num_clases=3):\n",
    "    return np.eye(num_clases)[labels_dense]"
   ]
  },
  {
   "cell_type": "code",
   "execution_count": 28,
   "metadata": {
    "id": "CudjPIHbjrd6"
   },
   "outputs": [],
   "source": [
    "train_y = dense_to_one_hot(train_y,num_clases=3)\n",
    "val_y= dense_to_one_hot(val_y,num_clases=3)"
   ]
  },
  {
   "cell_type": "code",
   "execution_count": 29,
   "metadata": {
    "id": "xisLazN_jddN"
   },
   "outputs": [
    {
     "name": "stderr",
     "output_type": "stream",
     "text": [
      "/home/mashjunior/anaconda3/envs/james_tensor/lib/python3.6/site-packages/keras_preprocessing/image/image_data_generator.py:348: UserWarning: This ImageDataGenerator specifies `featurewise_std_normalization`, which overrides setting of `featurewise_center`.\n",
      "  warnings.warn('This ImageDataGenerator specifies '\n"
     ]
    }
   ],
   "source": [
    "#Image data generation for the training \n",
    "datagen = ImageDataGenerator(\n",
    "               featurewise_center = False, \n",
    "               samplewise_center = False,  # set each sample mean to 0\n",
    "               featurewise_std_normalization = True,  \n",
    "               samplewise_std_normalization = False)  \n",
    "\n",
    "datagen.fit(train_x) \n",
    "# for i in range(len(test_x)):\n",
    "#       test_x[i] = datagen.standardize(test_x[i])"
   ]
  },
  {
   "cell_type": "code",
   "execution_count": 30,
   "metadata": {
    "id": "bWelxVMQM8Gd"
   },
   "outputs": [
    {
     "data": {
      "text/plain": [
       "(1800, 224, 224, 3)"
      ]
     },
     "execution_count": 30,
     "metadata": {},
     "output_type": "execute_result"
    }
   ],
   "source": [
    "train_x.shape"
   ]
  },
  {
   "cell_type": "markdown",
   "metadata": {
    "id": "wxuA7eGJ8cIj"
   },
   "source": [
    "# Model"
   ]
  },
  {
   "cell_type": "code",
   "execution_count": 31,
   "metadata": {
    "id": "cLvmxWn0ouIV"
   },
   "outputs": [],
   "source": [
    "from __future__ import absolute_import\n",
    "\n",
    "from __future__ import division\n",
    "\n",
    "from __future__ import print_function\n",
    "\n",
    "import os\n",
    "from tensorflow.keras import layers\n",
    "from tensorflow.keras import models\n",
    "from tensorflow.keras.models import *\n",
    "from tensorflow.keras.layers import *\n"
   ]
  },
  {
   "cell_type": "code",
   "execution_count": 32,
   "metadata": {
    "id": "MamrJotOn_Xb"
   },
   "outputs": [],
   "source": [
    "def VGG19(input_shape=None,classes=3, use_soft=True):\n",
    "\n",
    "\n",
    "    img_input = layers.Input(shape=input_shape)\n",
    "\n",
    "\n",
    "    # Block 1\n",
    "\n",
    "    x = layers.Conv2D(2, (3, 3),\n",
    "\n",
    "                      activation='relu',\n",
    "\n",
    "                      padding='same',\n",
    "\n",
    "                      name='block1_conv1',kernel_initializer=\"he_normal\")(img_input)\n",
    "\n",
    "    x = layers.Conv2D(2, (3, 3),\n",
    "\n",
    "                      activation='relu',\n",
    "\n",
    "                      padding='same',\n",
    "\n",
    "                      name='block1_conv2',kernel_initializer=\"he_normal\")(x)\n",
    "\n",
    "    x = layers.MaxPooling2D((2, 2), strides=(2, 2), name='block1_pool')(x)\n",
    "\n",
    "\n",
    "\n",
    "    # Block 2\n",
    "\n",
    "    x = layers.Conv2D(4, (3, 3),\n",
    "\n",
    "                      activation='relu',\n",
    "\n",
    "                      padding='same',\n",
    "\n",
    "                      name='block2_conv1',kernel_initializer=\"he_normal\")(x)\n",
    "\n",
    "    x = layers.Conv2D(4, (3, 3),\n",
    "\n",
    "                      activation='relu',\n",
    "\n",
    "                      padding='same',\n",
    "\n",
    "                      name='block2_conv2',kernel_initializer=\"he_normal\")(x)\n",
    "\n",
    "    x = layers.MaxPooling2D((2, 2), strides=(2, 2), name='block2_pool')(x)\n",
    "\n",
    "\n",
    "\n",
    "    # Block 3\n",
    "\n",
    "    x = layers.Conv2D(8, (3, 3),\n",
    "\n",
    "                      activation='relu',\n",
    "\n",
    "                      padding='same',\n",
    "\n",
    "                      name='block3_conv1',kernel_initializer=\"he_normal\")(x)\n",
    "\n",
    "    x = layers.Conv2D(8, (3, 3),\n",
    "\n",
    "                      activation='relu',\n",
    "\n",
    "                      padding='same',\n",
    "\n",
    "                      name='block3_conv2',kernel_initializer=\"he_normal\")(x)\n",
    "\n",
    "    x = layers.Conv2D(8, (3, 3),\n",
    "\n",
    "                      activation='relu',\n",
    "\n",
    "                      padding='same',\n",
    "\n",
    "                      name='block3_conv3',kernel_initializer=\"he_normal\")(x)\n",
    "    x = layers.Conv2D(8, (3, 3),\n",
    "\n",
    "                      activation='relu',\n",
    "\n",
    "                      padding='same',\n",
    "\n",
    "                      name='block3_conv4',kernel_initializer=\"he_normal\")(x)\n",
    "\n",
    "    x = layers.MaxPooling2D((2, 2), strides=(2, 2), name='block3_pool')(x)\n",
    "\n",
    "\n",
    "\n",
    "    # Block 4\n",
    "\n",
    "    x = layers.Conv2D(16, (3, 3),\n",
    "\n",
    "                      activation='relu',\n",
    "\n",
    "                      padding='same',\n",
    "\n",
    "                      name='block4_conv1',kernel_initializer=\"he_normal\")(x)\n",
    "\n",
    "    x = layers.Conv2D(16, (3, 3),\n",
    "\n",
    "                      activation='relu',\n",
    "\n",
    "                      padding='same',\n",
    "\n",
    "                      name='block4_conv2',kernel_initializer=\"he_normal\")(x)\n",
    "\n",
    "    x = layers.Conv2D(16, (3,3),\n",
    "\n",
    "                      activation='relu',\n",
    "\n",
    "                      padding='same',\n",
    "\n",
    "                      name='block4_conv3',kernel_initializer=\"he_normal\")(x)\n",
    "    x = layers.Conv2D(16, (3,3),\n",
    "\n",
    "                      activation='relu',\n",
    "\n",
    "                      padding='same',\n",
    "\n",
    "                      name='block4_conv4',kernel_initializer=\"he_normal\")(x)\n",
    "\n",
    "    x = layers.MaxPooling2D((2, 2), strides=(2, 2), name='block4_pool')(x)\n",
    "\n",
    "\n",
    "\n",
    "    # Block 5\n",
    "\n",
    "    x = layers.Conv2D(16, (3, 3),\n",
    "\n",
    "                      activation='relu',\n",
    "\n",
    "                      padding='same',\n",
    "\n",
    "                      name='block5_conv1',kernel_initializer=\"he_normal\")(x)\n",
    "\n",
    "    x = layers.Conv2D(16, (3, 3),\n",
    "\n",
    "                      activation='relu',\n",
    "\n",
    "                      padding='same',\n",
    "\n",
    "                      name='block5_conv2',kernel_initializer=\"he_normal\")(x)\n",
    "\n",
    "    x = layers.Conv2D(16, (3, 3),\n",
    "\n",
    "                      activation='relu',\n",
    "\n",
    "                      padding='same',\n",
    "\n",
    "                      name='block5_conv3',kernel_initializer=\"he_normal\")(x)\n",
    "    x = layers.Conv2D(16, (3, 3),\n",
    "\n",
    "                      activation='relu',\n",
    "\n",
    "                      padding='same',\n",
    "\n",
    "                      name='block5_conv4',kernel_initializer=\"he_normal\")(x)\n",
    "\n",
    "    x = layers.MaxPooling2D((2, 2), strides=(2,2), name='block5_pool')(x)\n",
    "\n",
    "\n",
    "        # Classification block\n",
    "\n",
    "    x = layers.Flatten(name='flatten')(x)\n",
    "\n",
    "    x = layers.Dense(512, activation='relu', name='fc1')(x)\n",
    "    x=layers.Dropout(0.5)(x)\n",
    "\n",
    "    x = layers.Dense(128, activation='relu', name='fc2')(x)\n",
    "    #x=layers.Dropout(0.8)(x)\n",
    "\n",
    "    if use_soft:\n",
    "        x = Dense(classes, activation = \"softmax\", name='predictions')(x)\n",
    "    else:\n",
    "        x = Dense(classes, activation = \"linear\", name = \"Z_4\")(x)\n",
    "\n",
    "    model = models.Model(img_input, x, name='vgg19')\n",
    "    model.summary()\n",
    "\n",
    "    return model\n",
    "\n"
   ]
  },
  {
   "cell_type": "code",
   "execution_count": 33,
   "metadata": {
    "colab": {
     "base_uri": "https://localhost:8080/"
    },
    "executionInfo": {
     "elapsed": 522,
     "status": "ok",
     "timestamp": 1633004891511,
     "user": {
      "displayName": "Risuna Wisdom",
      "photoUrl": "https://lh3.googleusercontent.com/a-/AOh14GimlNqRpN_o9anbTg8yu0iib6mkLj125ZiN2bRIRA=s64",
      "userId": "05011745289129550000"
     },
     "user_tz": -120
    },
    "id": "JKRV165B1o4o",
    "outputId": "832a05fe-137d-403b-d5af-46bbbef05306"
   },
   "outputs": [
    {
     "data": {
      "text/plain": [
       "<tensorflow.python.framework.ops.Graph at 0x7fe235d8b518>"
      ]
     },
     "execution_count": 33,
     "metadata": {},
     "output_type": "execute_result"
    }
   ],
   "source": [
    "from tensorflow.keras.models import Sequential\n",
    "tf.compat.v1.get_default_graph()"
   ]
  },
  {
   "cell_type": "code",
   "execution_count": 34,
   "metadata": {
    "colab": {
     "base_uri": "https://localhost:8080/"
    },
    "id": "lvlxNdeWj56r",
    "outputId": "72549d21-a350-45c1-8aed-71bbeeed8d6e",
    "scrolled": true
   },
   "outputs": [
    {
     "name": "stdout",
     "output_type": "stream",
     "text": [
      "WARNING:tensorflow:From /home/mashjunior/anaconda3/envs/james_tensor/lib/python3.6/site-packages/tensorflow/python/ops/init_ops.py:1251: calling VarianceScaling.__init__ (from tensorflow.python.ops.init_ops) with dtype is deprecated and will be removed in a future version.\n",
      "Instructions for updating:\n",
      "Call initializer instance with the dtype argument instead of passing it to the constructor\n",
      "Model: \"vgg19\"\n",
      "_________________________________________________________________\n",
      "Layer (type)                 Output Shape              Param #   \n",
      "=================================================================\n",
      "input_1 (InputLayer)         [(None, 224, 224, 3)]     0         \n",
      "_________________________________________________________________\n",
      "block1_conv1 (Conv2D)        (None, 224, 224, 2)       56        \n",
      "_________________________________________________________________\n",
      "block1_conv2 (Conv2D)        (None, 224, 224, 2)       38        \n",
      "_________________________________________________________________\n",
      "block1_pool (MaxPooling2D)   (None, 112, 112, 2)       0         \n",
      "_________________________________________________________________\n",
      "block2_conv1 (Conv2D)        (None, 112, 112, 4)       76        \n",
      "_________________________________________________________________\n",
      "block2_conv2 (Conv2D)        (None, 112, 112, 4)       148       \n",
      "_________________________________________________________________\n",
      "block2_pool (MaxPooling2D)   (None, 56, 56, 4)         0         \n",
      "_________________________________________________________________\n",
      "block3_conv1 (Conv2D)        (None, 56, 56, 8)         296       \n",
      "_________________________________________________________________\n",
      "block3_conv2 (Conv2D)        (None, 56, 56, 8)         584       \n",
      "_________________________________________________________________\n",
      "block3_conv3 (Conv2D)        (None, 56, 56, 8)         584       \n",
      "_________________________________________________________________\n",
      "block3_conv4 (Conv2D)        (None, 56, 56, 8)         584       \n",
      "_________________________________________________________________\n",
      "block3_pool (MaxPooling2D)   (None, 28, 28, 8)         0         \n",
      "_________________________________________________________________\n",
      "block4_conv1 (Conv2D)        (None, 28, 28, 16)        1168      \n",
      "_________________________________________________________________\n",
      "block4_conv2 (Conv2D)        (None, 28, 28, 16)        2320      \n",
      "_________________________________________________________________\n",
      "block4_conv3 (Conv2D)        (None, 28, 28, 16)        2320      \n",
      "_________________________________________________________________\n",
      "block4_conv4 (Conv2D)        (None, 28, 28, 16)        2320      \n",
      "_________________________________________________________________\n",
      "block4_pool (MaxPooling2D)   (None, 14, 14, 16)        0         \n",
      "_________________________________________________________________\n",
      "block5_conv1 (Conv2D)        (None, 14, 14, 16)        2320      \n",
      "_________________________________________________________________\n",
      "block5_conv2 (Conv2D)        (None, 14, 14, 16)        2320      \n",
      "_________________________________________________________________\n",
      "block5_conv3 (Conv2D)        (None, 14, 14, 16)        2320      \n",
      "_________________________________________________________________\n",
      "block5_conv4 (Conv2D)        (None, 14, 14, 16)        2320      \n",
      "_________________________________________________________________\n",
      "block5_pool (MaxPooling2D)   (None, 7, 7, 16)          0         \n",
      "_________________________________________________________________\n",
      "flatten (Flatten)            (None, 784)               0         \n",
      "_________________________________________________________________\n",
      "fc1 (Dense)                  (None, 512)               401920    \n",
      "_________________________________________________________________\n",
      "dropout (Dropout)            (None, 512)               0         \n",
      "_________________________________________________________________\n",
      "fc2 (Dense)                  (None, 128)               65664     \n",
      "_________________________________________________________________\n",
      "predictions (Dense)          (None, 3)                 387       \n",
      "=================================================================\n",
      "Total params: 487,745\n",
      "Trainable params: 487,745\n",
      "Non-trainable params: 0\n",
      "_________________________________________________________________\n",
      "Epoch 1/50\n",
      "32/32 [==============================] - 11s 340ms/step - loss: 1.0941 - acc: 0.3291 - val_loss: 1.0762 - val_acc: 0.3438\n",
      "Epoch 2/50\n",
      "32/32 [==============================] - 9s 283ms/step - loss: 0.9255 - acc: 0.6130 - val_loss: 0.6793 - val_acc: 0.7437\n",
      "Epoch 3/50\n",
      "32/32 [==============================] - 9s 280ms/step - loss: 0.7017 - acc: 0.7393 - val_loss: 0.6045 - val_acc: 0.7937\n",
      "Epoch 4/50\n",
      "32/32 [==============================] - 9s 279ms/step - loss: 0.4536 - acc: 0.8460 - val_loss: 0.5366 - val_acc: 0.8375\n",
      "Epoch 5/50\n",
      "32/32 [==============================] - 9s 276ms/step - loss: 0.4273 - acc: 0.8670 - val_loss: 0.4403 - val_acc: 0.8750\n",
      "Epoch 6/50\n",
      "32/32 [==============================] - 9s 275ms/step - loss: 0.3522 - acc: 0.8960 - val_loss: 0.4512 - val_acc: 0.8500\n",
      "Epoch 7/50\n",
      "32/32 [==============================] - 9s 284ms/step - loss: 0.3498 - acc: 0.8867 - val_loss: 0.4610 - val_acc: 0.8562\n",
      "Epoch 8/50\n",
      "32/32 [==============================] - 9s 290ms/step - loss: 0.3049 - acc: 0.9033 - val_loss: 0.3611 - val_acc: 0.8875\n",
      "Epoch 9/50\n",
      "32/32 [==============================] - 9s 275ms/step - loss: 0.3148 - acc: 0.8890 - val_loss: 0.3518 - val_acc: 0.8938\n",
      "Epoch 10/50\n",
      "32/32 [==============================] - 9s 286ms/step - loss: 0.2396 - acc: 0.9238 - val_loss: 0.6203 - val_acc: 0.8438\n",
      "Epoch 11/50\n",
      "32/32 [==============================] - 9s 273ms/step - loss: 0.2404 - acc: 0.9068 - val_loss: 0.2864 - val_acc: 0.9062\n",
      "Epoch 12/50\n",
      "32/32 [==============================] - 9s 287ms/step - loss: 0.2117 - acc: 0.9287 - val_loss: 0.3340 - val_acc: 0.8562\n",
      "Epoch 13/50\n",
      "32/32 [==============================] - 9s 288ms/step - loss: 0.2232 - acc: 0.9160 - val_loss: 0.3720 - val_acc: 0.9187\n",
      "Epoch 14/50\n",
      "32/32 [==============================] - 9s 292ms/step - loss: 0.2340 - acc: 0.9210 - val_loss: 0.3051 - val_acc: 0.9375\n",
      "Epoch 15/50\n",
      "32/32 [==============================] - 9s 288ms/step - loss: 0.2025 - acc: 0.9316 - val_loss: 0.3209 - val_acc: 0.9062\n",
      "Epoch 16/50\n",
      "32/32 [==============================] - 9s 278ms/step - loss: 0.1722 - acc: 0.9340 - val_loss: 0.3409 - val_acc: 0.9187\n",
      "Epoch 17/50\n",
      "32/32 [==============================] - 10s 300ms/step - loss: 0.1750 - acc: 0.9453 - val_loss: 0.3430 - val_acc: 0.8875\n",
      "Epoch 18/50\n",
      "32/32 [==============================] - 10s 307ms/step - loss: 0.1986 - acc: 0.9440 - val_loss: 0.3904 - val_acc: 0.8938\n",
      "Epoch 19/50\n",
      "32/32 [==============================] - 9s 296ms/step - loss: 0.2114 - acc: 0.9260 - val_loss: 0.3517 - val_acc: 0.8938\n",
      "Epoch 20/50\n",
      "32/32 [==============================] - 10s 313ms/step - loss: 0.1724 - acc: 0.9395 - val_loss: 0.3526 - val_acc: 0.9187\n",
      "Epoch 21/50\n",
      "32/32 [==============================] - 9s 278ms/step - loss: 0.1969 - acc: 0.9370 - val_loss: 0.3082 - val_acc: 0.9125\n",
      "Epoch 22/50\n",
      "32/32 [==============================] - 9s 287ms/step - loss: 0.1662 - acc: 0.9482 - val_loss: 0.3769 - val_acc: 0.8750\n",
      "Epoch 23/50\n",
      "32/32 [==============================] - 9s 280ms/step - loss: 0.2049 - acc: 0.9340 - val_loss: 0.4521 - val_acc: 0.8875\n",
      "Epoch 24/50\n",
      "32/32 [==============================] - 9s 284ms/step - loss: 0.2107 - acc: 0.9336 - val_loss: 0.3488 - val_acc: 0.8625\n",
      "Epoch 25/50\n",
      "32/32 [==============================] - 9s 272ms/step - loss: 0.2136 - acc: 0.9252 - val_loss: 0.2847 - val_acc: 0.9000\n",
      "Epoch 26/50\n",
      "32/32 [==============================] - 9s 284ms/step - loss: 0.1883 - acc: 0.9355 - val_loss: 0.2764 - val_acc: 0.9062\n",
      "Epoch 27/50\n",
      "32/32 [==============================] - 9s 285ms/step - loss: 0.1959 - acc: 0.9258 - val_loss: 0.3548 - val_acc: 0.9312\n",
      "Epoch 28/50\n",
      "32/32 [==============================] - 9s 285ms/step - loss: 0.1644 - acc: 0.9460 - val_loss: 0.2848 - val_acc: 0.9312\n",
      "Epoch 29/50\n",
      "32/32 [==============================] - 9s 291ms/step - loss: 0.1941 - acc: 0.9404 - val_loss: 0.2236 - val_acc: 0.9187\n",
      "Epoch 30/50\n"
     ]
    },
    {
     "name": "stdout",
     "output_type": "stream",
     "text": [
      "32/32 [==============================] - 9s 276ms/step - loss: 0.2198 - acc: 0.9320 - val_loss: 0.3943 - val_acc: 0.8500\n",
      "Epoch 31/50\n",
      "32/32 [==============================] - 9s 289ms/step - loss: 0.2594 - acc: 0.9150 - val_loss: 0.3222 - val_acc: 0.8875\n",
      "Epoch 32/50\n",
      "32/32 [==============================] - 9s 286ms/step - loss: 0.2686 - acc: 0.9040 - val_loss: 0.4706 - val_acc: 0.8875\n",
      "Epoch 33/50\n",
      "32/32 [==============================] - 9s 276ms/step - loss: 0.2103 - acc: 0.9310 - val_loss: 0.5221 - val_acc: 0.8625\n",
      "Epoch 34/50\n",
      "32/32 [==============================] - 9s 282ms/step - loss: 0.3066 - acc: 0.8916 - val_loss: 0.2910 - val_acc: 0.9000\n",
      "Epoch 35/50\n",
      "32/32 [==============================] - 9s 274ms/step - loss: 0.2427 - acc: 0.9090 - val_loss: 0.3013 - val_acc: 0.9125\n",
      "Epoch 36/50\n",
      "32/32 [==============================] - 9s 280ms/step - loss: 0.2014 - acc: 0.9268 - val_loss: 0.3585 - val_acc: 0.9000\n",
      "Epoch 37/50\n",
      "32/32 [==============================] - 9s 286ms/step - loss: 0.2198 - acc: 0.9170 - val_loss: 0.3194 - val_acc: 0.9250\n",
      "Epoch 38/50\n",
      "32/32 [==============================] - 10s 314ms/step - loss: 0.1667 - acc: 0.9463 - val_loss: 0.1990 - val_acc: 0.9438\n",
      "Epoch 39/50\n",
      "32/32 [==============================] - 9s 289ms/step - loss: 0.1781 - acc: 0.9280 - val_loss: 0.2818 - val_acc: 0.9250\n",
      "Epoch 40/50\n",
      "32/32 [==============================] - 9s 288ms/step - loss: 0.1481 - acc: 0.9370 - val_loss: 0.4520 - val_acc: 0.9000\n",
      "Epoch 41/50\n",
      "32/32 [==============================] - 9s 294ms/step - loss: 0.2051 - acc: 0.9287 - val_loss: 0.3913 - val_acc: 0.9187\n",
      "Epoch 42/50\n",
      "32/32 [==============================] - 9s 295ms/step - loss: 0.2206 - acc: 0.9209 - val_loss: 0.4209 - val_acc: 0.9000\n",
      "Epoch 43/50\n",
      "32/32 [==============================] - 9s 288ms/step - loss: 0.3167 - acc: 0.8870 - val_loss: 0.4839 - val_acc: 0.8250\n",
      "Epoch 44/50\n",
      "32/32 [==============================] - 9s 295ms/step - loss: 0.2661 - acc: 0.9150 - val_loss: 0.4646 - val_acc: 0.8562\n",
      "Epoch 45/50\n",
      "32/32 [==============================] - 9s 293ms/step - loss: 0.2379 - acc: 0.9190 - val_loss: 0.3578 - val_acc: 0.9187\n",
      "Epoch 46/50\n",
      "32/32 [==============================] - 9s 285ms/step - loss: 0.2253 - acc: 0.9240 - val_loss: 0.2798 - val_acc: 0.9187\n",
      "Epoch 47/50\n",
      "32/32 [==============================] - 9s 292ms/step - loss: 0.1672 - acc: 0.9395 - val_loss: 0.2729 - val_acc: 0.9187\n",
      "Epoch 48/50\n",
      "32/32 [==============================] - 9s 285ms/step - loss: 0.1853 - acc: 0.9410 - val_loss: 0.2970 - val_acc: 0.9000\n",
      "Epoch 49/50\n",
      "32/32 [==============================] - 9s 294ms/step - loss: 0.1557 - acc: 0.9561 - val_loss: 0.3816 - val_acc: 0.8938\n",
      "Epoch 50/50\n",
      "32/32 [==============================] - 9s 286ms/step - loss: 0.1831 - acc: 0.9320 - val_loss: 0.4126 - val_acc: 0.9062\n"
     ]
    }
   ],
   "source": [
    "#Defining hyperparameters\n",
    "batch_Size = 32\n",
    "steps_Per_Epoch = 32\n",
    "numEpochs = 50\n",
    "\n",
    "#Instantating VGG19 model\n",
    "model = VGG19((224,224,3),3) #VGG19_dense for revised VGG19, VGG19 for VGG19. Please pay attention to VGG16(), chnage the input shape and class number in VGG.py.\n",
    "\n",
    "#Creating an optimizers\n",
    "adaDelta = tf.keras.optimizers.Adadelta(lr=1.0, rho=0.95)\n",
    "sgd = SGD(lr=0.01, decay=1e-6, momentum=0.95, nesterov=True)\n",
    "model.compile(optimizer = sgd , loss = 'categorical_crossentropy', metrics = ['accuracy'])\n",
    "\n",
    "#Creating early stopping \n",
    "earlystop = EarlyStopping(monitor = 'val_accuracy', min_delta = 0, patience = 50, verbose = 1, mode = 'auto', restore_best_weights = True)       \n",
    "\n",
    "train_generator = datagen.flow(train_x, train_y, batch_size = batch_Size)\n",
    "validation_generator = datagen.flow(val_x, val_y, batch_size = batch_Size)\n",
    "\n",
    "# Model training\n",
    "history = model.fit_generator(\n",
    "    train_generator,\n",
    "    steps_per_epoch = steps_Per_Epoch,\n",
    "    validation_data = validation_generator, \n",
    "    validation_steps = 5,\n",
    "    epochs = numEpochs,\n",
    "    shuffle = True, \n",
    "    verbose = 1)"
   ]
  },
  {
   "cell_type": "code",
   "execution_count": 35,
   "metadata": {
    "id": "tkm_qQqWj59_"
   },
   "outputs": [],
   "source": [
    "modelPath = \"VGG19_COVID19.h5\"\n",
    "resultPath = 'VGG19_COVID19.txt'"
   ]
  },
  {
   "cell_type": "code",
   "execution_count": 44,
   "metadata": {
    "colab": {
     "base_uri": "https://localhost:8080/",
     "height": 632
    },
    "executionInfo": {
     "elapsed": 516,
     "status": "error",
     "timestamp": 1633002640562,
     "user": {
      "displayName": "Risuna Wisdom",
      "photoUrl": "https://lh3.googleusercontent.com/a-/AOh14GimlNqRpN_o9anbTg8yu0iib6mkLj125ZiN2bRIRA=s64",
      "userId": "05011745289129550000"
     },
     "user_tz": -120
    },
    "id": "hT2DdOwiSrAw",
    "outputId": "de4e4cf0-5e08-495b-979f-2501891e9ae6"
   },
   "outputs": [
    {
     "data": {
      "image/png": "[encoded data removed]",
      "text/plain": [
       "<Figure size 432x288 with 1 Axes>"
      ]
     },
     "metadata": {
      "needs_background": "light"
     },
     "output_type": "display_data"
    }
   ],
   "source": [
    "loss_train = history.history['loss']\n",
    "loss_val = history.history['val_loss']\n",
    "epochs = range(0,50)\n",
    "plt.plot(epochs, loss_train, 'g', label='Training loss')\n",
    "plt.plot(epochs, loss_val, 'b', label='validation loss')\n",
    "plt.title('Training and Validation loss')\n",
    "plt.xlabel('Epochs')\n",
    "plt.ylabel('Loss')\n",
    "plt.legend()\n",
    "plt.show()"
   ]
  },
  {
   "cell_type": "code",
   "execution_count": 47,
   "metadata": {
    "colab": {
     "base_uri": "https://localhost:8080/",
     "height": 632
    },
    "executionInfo": {
     "elapsed": 857,
     "status": "error",
     "timestamp": 1633002685092,
     "user": {
      "displayName": "Risuna Wisdom",
      "photoUrl": "https://lh3.googleusercontent.com/a-/AOh14GimlNqRpN_o9anbTg8yu0iib6mkLj125ZiN2bRIRA=s64",
      "userId": "05011745289129550000"
     },
     "user_tz": -120
    },
    "id": "u6m3j6WfUf6U",
    "outputId": "f0ed6e3a-3ec5-4ca4-a15e-18faa40c55f4"
   },
   "outputs": [
    {
     "data": {
      "image/png": "[encoded data removed]",
      "text/plain": [
       "<Figure size 432x288 with 1 Axes>"
      ]
     },
     "metadata": {
      "needs_background": "light"
     },
     "output_type": "display_data"
    }
   ],
   "source": [
    "loss_train = history.history['acc']\n",
    "loss_val = history.history['val_acc']\n",
    "epochs = range(0,50)\n",
    "plt.plot(epochs, loss_train, 'g', label='Training accuracy')\n",
    "plt.plot(epochs, loss_val, 'b', label='validation accuracy')\n",
    "plt.title('Training and Validation accuracy')\n",
    "plt.xlabel('Epochs')\n",
    "plt.ylabel('Accuracy')\n",
    "plt.legend()\n",
    "plt.show()"
   ]
  },
  {
   "cell_type": "markdown",
   "metadata": {
    "id": "oVPyZQYA_9Ym"
   },
   "source": [
    "# End here - we don't have the test data yet"
   ]
  },
  {
   "cell_type": "code",
   "execution_count": 48,
   "metadata": {
    "colab": {
     "base_uri": "https://localhost:8080/"
    },
    "executionInfo": {
     "elapsed": 3163,
     "status": "ok",
     "timestamp": 1633004570393,
     "user": {
      "displayName": "Risuna Wisdom",
      "photoUrl": "https://lh3.googleusercontent.com/a-/AOh14GimlNqRpN_o9anbTg8yu0iib6mkLj125ZiN2bRIRA=s64",
      "userId": "05011745289129550000"
     },
     "user_tz": -120
    },
    "id": "vZU00YnfOGuW",
    "outputId": "6cc980d9-f8b1-4baa-962a-b968c18a5201"
   },
   "outputs": [
    {
     "ename": "NameError",
     "evalue": "name 'test_y' is not defined",
     "output_type": "error",
     "traceback": [
      "\u001b[0;31m---------------------------------------------------------------------------\u001b[0m",
      "\u001b[0;31mNameError\u001b[0m                                 Traceback (most recent call last)",
      "\u001b[0;32m~/anaconda3/envs/james_tensor/lib/python3.6/site-packages/tensorflow/python/keras/api/_v1/keras/layers/__init__.py\u001b[0m in \u001b[0;36m<module>\u001b[0;34m\u001b[0m\n\u001b[0;32m----> 1\u001b[0;31m \u001b[0my_test_oh\u001b[0m \u001b[0;34m=\u001b[0m \u001b[0mdense_to_one_hot\u001b[0m\u001b[0;34m(\u001b[0m\u001b[0mtest_y\u001b[0m\u001b[0;34m,\u001b[0m \u001b[0mnum_clases\u001b[0m\u001b[0;34m=\u001b[0m\u001b[0;36m3\u001b[0m\u001b[0;34m)\u001b[0m\u001b[0;34m\u001b[0m\u001b[0;34m\u001b[0m\u001b[0m\n\u001b[0m\u001b[1;32m      2\u001b[0m \u001b[0;31m# Model evaluation\u001b[0m\u001b[0;34m\u001b[0m\u001b[0;34m\u001b[0m\u001b[0;34m\u001b[0m\u001b[0m\n\u001b[1;32m      3\u001b[0m \u001b[0mscore\u001b[0m\u001b[0;34m,\u001b[0m \u001b[0macc\u001b[0m \u001b[0;34m=\u001b[0m \u001b[0mmodel\u001b[0m\u001b[0;34m.\u001b[0m\u001b[0mevaluate\u001b[0m\u001b[0;34m(\u001b[0m\u001b[0mtest_x\u001b[0m\u001b[0;34m,\u001b[0m \u001b[0my_test_oh\u001b[0m\u001b[0;34m,\u001b[0m \u001b[0mbatch_size\u001b[0m\u001b[0;34m=\u001b[0m\u001b[0mbatch_Size\u001b[0m\u001b[0;34m)\u001b[0m\u001b[0;34m\u001b[0m\u001b[0;34m\u001b[0m\u001b[0m\n\u001b[1;32m      4\u001b[0m \u001b[0mprint\u001b[0m\u001b[0;34m(\u001b[0m\u001b[0;34m\"Accuracy:\"\u001b[0m\u001b[0;34m,\u001b[0m \u001b[0macc\u001b[0m\u001b[0;34m)\u001b[0m\u001b[0;34m\u001b[0m\u001b[0;34m\u001b[0m\u001b[0m\n\u001b[1;32m      5\u001b[0m \u001b[0;34m\u001b[0m\u001b[0m\n",
      "\u001b[0;31mNameError\u001b[0m: name 'test_y' is not defined"
     ]
    }
   ],
   "source": [
    "y_test_oh = dense_to_one_hot(test_y, num_clases=3)\n",
    "# Model evaluation \n",
    "score, acc = model.evaluate(test_x, y_test_oh, batch_size=batch_Size)\n",
    "print(\"Accuracy:\", acc)\n",
    "\n",
    "#if acc>0.675:\n",
    "model.save_weights(modelPath)"
   ]
  },
  {
   "cell_type": "code",
   "execution_count": 49,
   "metadata": {
    "colab": {
     "base_uri": "https://localhost:8080/"
    },
    "executionInfo": {
     "elapsed": 2577,
     "status": "ok",
     "timestamp": 1633004576577,
     "user": {
      "displayName": "Risuna Wisdom",
      "photoUrl": "https://lh3.googleusercontent.com/a-/AOh14GimlNqRpN_o9anbTg8yu0iib6mkLj125ZiN2bRIRA=s64",
      "userId": "05011745289129550000"
     },
     "user_tz": -120
    },
    "id": "xRXIeHklW0EB",
    "outputId": "eb3fc63d-3074-4a10-90d0-e486a0dcc0dd"
   },
   "outputs": [
    {
     "ename": "NameError",
     "evalue": "name 'test_x' is not defined",
     "output_type": "error",
     "traceback": [
      "\u001b[0;31m---------------------------------------------------------------------------\u001b[0m",
      "\u001b[0;31mNameError\u001b[0m                                 Traceback (most recent call last)",
      "\u001b[0;32m~/anaconda3/envs/james_tensor/lib/python3.6/site-packages/tensorflow/python/keras/api/_v1/keras/layers/__init__.py\u001b[0m in \u001b[0;36m<module>\u001b[0;34m\u001b[0m\n\u001b[0;32m----> 1\u001b[0;31m \u001b[0my_pred\u001b[0m \u001b[0;34m=\u001b[0m \u001b[0mmodel\u001b[0m\u001b[0;34m.\u001b[0m\u001b[0mpredict\u001b[0m\u001b[0;34m(\u001b[0m\u001b[0mtest_x\u001b[0m\u001b[0;34m)\u001b[0m\u001b[0;34m\u001b[0m\u001b[0;34m\u001b[0m\u001b[0m\n\u001b[0m\u001b[1;32m      2\u001b[0m \u001b[0my_pred\u001b[0m \u001b[0;34m=\u001b[0m \u001b[0my_pred\u001b[0m\u001b[0;34m.\u001b[0m\u001b[0mreshape\u001b[0m\u001b[0;34m(\u001b[0m\u001b[0mlen\u001b[0m\u001b[0;34m(\u001b[0m\u001b[0mtest_y\u001b[0m\u001b[0;34m)\u001b[0m\u001b[0;34m,\u001b[0m \u001b[0;36m3\u001b[0m\u001b[0;34m)\u001b[0m\u001b[0;34m\u001b[0m\u001b[0;34m\u001b[0m\u001b[0m\n\u001b[1;32m      3\u001b[0m \u001b[0my_pred\u001b[0m \u001b[0;34m=\u001b[0m \u001b[0mnp\u001b[0m\u001b[0;34m.\u001b[0m\u001b[0margmax\u001b[0m\u001b[0;34m(\u001b[0m\u001b[0my_pred\u001b[0m\u001b[0;34m,\u001b[0m \u001b[0maxis\u001b[0m\u001b[0;34m=\u001b[0m\u001b[0;36m1\u001b[0m\u001b[0;34m)\u001b[0m\u001b[0;34m\u001b[0m\u001b[0;34m\u001b[0m\u001b[0m\n\u001b[1;32m      4\u001b[0m \u001b[0;34m\u001b[0m\u001b[0m\n\u001b[1;32m      5\u001b[0m \u001b[0;31m# Writing results on file\u001b[0m\u001b[0;34m\u001b[0m\u001b[0;34m\u001b[0m\u001b[0;34m\u001b[0m\u001b[0m\n",
      "\u001b[0;31mNameError\u001b[0m: name 'test_x' is not defined"
     ]
    }
   ],
   "source": [
    "y_pred = model.predict(test_x)\n",
    "y_pred = y_pred.reshape(len(test_y), 3)\n",
    "y_pred = np.argmax(y_pred, axis=1)\n",
    "\n",
    "# Writing results on file\n",
    "f = open(resultPath,'a') #create classification report\n",
    "f.write(classification_report(test_y, y_pred))\n",
    "f.write(str(sklm.cohen_kappa_score(test_y, y_pred))+\",\"+str(acc)+\",\"+str(score)+\"\\n\")\n",
    "\n",
    "#Print class-wise classification metrics\n",
    "print(classification_report(test_y, y_pred))"
   ]
  },
  {
   "cell_type": "code",
   "execution_count": null,
   "metadata": {
    "colab": {
     "base_uri": "https://localhost:8080/",
     "height": 282
    },
    "executionInfo": {
     "elapsed": 1522,
     "status": "ok",
     "timestamp": 1633004581317,
     "user": {
      "displayName": "Risuna Wisdom",
      "photoUrl": "https://lh3.googleusercontent.com/a-/AOh14GimlNqRpN_o9anbTg8yu0iib6mkLj125ZiN2bRIRA=s64",
      "userId": "05011745289129550000"
     },
     "user_tz": -120
    },
    "id": "ZRoSqkICR2K8",
    "outputId": "8bc5dffb-8ff1-4ace-f5dd-2a6bdb7d31e5"
   },
   "outputs": [
    {
     "data": {
      "text/plain": [
       "<matplotlib.axes._subplots.AxesSubplot at 0x7f7af87914d0>"
      ]
     },
     "execution_count": 30,
     "metadata": {},
     "output_type": "execute_result"
    },
    {
     "data": {
      "image/png": "[encoded data removed]",
      "text/plain": [
       "<Figure size 432x288 with 2 Axes>"
      ]
     },
     "metadata": {},
     "output_type": "display_data"
    }
   ],
   "source": [
    "from sklearn.metrics import confusion_matrix\n",
    "import seaborn as sns\n",
    "cm=confusion_matrix(test_y,y_pred)\n",
    "sns.heatmap(cm,annot=True,fmt='g',xticklabels=['Normal',\"Pneumonia\",\"Bacteria\"],yticklabels=['Normal',\"Pneumonia\",\"Bacteria\"])"
   ]
  },
  {
   "cell_type": "markdown",
   "metadata": {
    "id": "DixYweOqiNEC"
   },
   "source": [
    "# Explainability - Grad-CAM and Grad-CAM++"
   ]
  },
  {
   "cell_type": "code",
   "execution_count": null,
   "metadata": {
    "id": "PljTuuBwvdjz"
   },
   "outputs": [],
   "source": [
    "#!/usr/bin/env python\n",
    "# coding: utf-8\n",
    "\n",
    "import matplotlib.pyplot as plt\n",
    "plt.rcParams['figure.figsize'] = 10,10\n",
    "\n",
    "from scipy.ndimage.interpolation import zoom\n",
    "#import VGG\n",
    "#import gradcamutils\n",
    "import numpy as np\n",
    "import os\n",
    "from PIL import Image\n",
    "#import innvestigate\n",
    "\n",
    "#from VGG import *"
   ]
  },
  {
   "cell_type": "code",
   "execution_count": null,
   "metadata": {
    "id": "kD8mGUeUvfXu"
   },
   "outputs": [],
   "source": [
    "# use this environment flag to change which GPU to use \n",
    "os.environ[\"CUDA_VISIBLE_DEVICES\"]=\"-1\"  # specify which GPU(s) to be used"
   ]
  },
  {
   "cell_type": "code",
   "execution_count": null,
   "metadata": {
    "id": "SJxTRAgMtk-n"
   },
   "outputs": [],
   "source": [
    "def createOrRestoreModel(): \n",
    "    vggModel = VGG19((224,224,3),3, False) #set up model architecture\n",
    "\n",
    "    vggModel.summary()\n",
    "    vggModel.load_weights(\"VGG19_COVID19.h5\") #load weights\n",
    "\n",
    "    model = vggModel\n",
    "\n",
    "    return model"
   ]
  },
  {
   "cell_type": "code",
   "execution_count": null,
   "metadata": {
    "id": "Np6Xdv7CvWUO"
   },
   "outputs": [],
   "source": [
    "def readTestImage(img_path): \n",
    "    img = Image.open(img_path) #open image you want to visualize \"1238_R.png\"\n",
    "\n",
    "    img = np.array(img.resize((224,224), Image.ANTIALIAS))\n",
    "    imgArr = img.reshape(1,224,224,3)#open image you want to visualize\n",
    "    imgNormalized = imgArr / 255.\n",
    "    \n",
    "    return img, imgArr, imgNormalized"
   ]
  },
  {
   "cell_type": "code",
   "execution_count": null,
   "metadata": {
    "id": "y9jmyWzBvmLT"
   },
   "outputs": [],
   "source": [
    "img_path=\"/content/drive/My Drive/Colab Notebooks/Imaging/Example_images/F4341CE7-73C9-45C6-99C8-8567A5484B63.jpeg\"\n",
    "img, imgArr, imgNormalized = readTestImage(img_path)"
   ]
  },
  {
   "cell_type": "code",
   "execution_count": null,
   "metadata": {
    "colab": {
     "base_uri": "https://localhost:8080/"
    },
    "executionInfo": {
     "elapsed": 761,
     "status": "ok",
     "timestamp": 1633004613471,
     "user": {
      "displayName": "Risuna Wisdom",
      "photoUrl": "https://lh3.googleusercontent.com/a-/AOh14GimlNqRpN_o9anbTg8yu0iib6mkLj125ZiN2bRIRA=s64",
      "userId": "05011745289129550000"
     },
     "user_tz": -120
    },
    "id": "wXlG0Klrv1NX",
    "outputId": "dda4f89f-5649-40e4-ff9b-6c0c042212bb",
    "scrolled": false
   },
   "outputs": [
    {
     "name": "stdout",
     "output_type": "stream",
     "text": [
      "Model: \"vgg19\"\n",
      "_________________________________________________________________\n",
      "Layer (type)                 Output Shape              Param #   \n",
      "=================================================================\n",
      "input_3 (InputLayer)         [(None, 224, 224, 3)]     0         \n",
      "_________________________________________________________________\n",
      "block1_conv1 (Conv2D)        (None, 224, 224, 2)       56        \n",
      "_________________________________________________________________\n",
      "block1_conv2 (Conv2D)        (None, 224, 224, 2)       38        \n",
      "_________________________________________________________________\n",
      "block1_pool (MaxPooling2D)   (None, 112, 112, 2)       0         \n",
      "_________________________________________________________________\n",
      "block2_conv1 (Conv2D)        (None, 112, 112, 4)       76        \n",
      "_________________________________________________________________\n",
      "block2_conv2 (Conv2D)        (None, 112, 112, 4)       148       \n",
      "_________________________________________________________________\n",
      "block2_pool (MaxPooling2D)   (None, 56, 56, 4)         0         \n",
      "_________________________________________________________________\n",
      "block3_conv1 (Conv2D)        (None, 56, 56, 8)         296       \n",
      "_________________________________________________________________\n",
      "block3_conv2 (Conv2D)        (None, 56, 56, 8)         584       \n",
      "_________________________________________________________________\n",
      "block3_conv3 (Conv2D)        (None, 56, 56, 8)         584       \n",
      "_________________________________________________________________\n",
      "block3_conv4 (Conv2D)        (None, 56, 56, 8)         584       \n",
      "_________________________________________________________________\n",
      "block3_pool (MaxPooling2D)   (None, 28, 28, 8)         0         \n",
      "_________________________________________________________________\n",
      "block4_conv1 (Conv2D)        (None, 28, 28, 16)        1168      \n",
      "_________________________________________________________________\n",
      "block4_conv2 (Conv2D)        (None, 28, 28, 16)        2320      \n",
      "_________________________________________________________________\n",
      "block4_conv3 (Conv2D)        (None, 28, 28, 16)        2320      \n",
      "_________________________________________________________________\n",
      "block4_conv4 (Conv2D)        (None, 28, 28, 16)        2320      \n",
      "_________________________________________________________________\n",
      "block4_pool (MaxPooling2D)   (None, 14, 14, 16)        0         \n",
      "_________________________________________________________________\n",
      "block5_conv1 (Conv2D)        (None, 14, 14, 16)        2320      \n",
      "_________________________________________________________________\n",
      "block5_conv2 (Conv2D)        (None, 14, 14, 16)        2320      \n",
      "_________________________________________________________________\n",
      "block5_conv3 (Conv2D)        (None, 14, 14, 16)        2320      \n",
      "_________________________________________________________________\n",
      "block5_conv4 (Conv2D)        (None, 14, 14, 16)        2320      \n",
      "_________________________________________________________________\n",
      "block5_pool (MaxPooling2D)   (None, 7, 7, 16)          0         \n",
      "_________________________________________________________________\n",
      "flatten (Flatten)            (None, 784)               0         \n",
      "_________________________________________________________________\n",
      "fc1 (Dense)                  (None, 512)               401920    \n",
      "_________________________________________________________________\n",
      "dropout_2 (Dropout)          (None, 512)               0         \n",
      "_________________________________________________________________\n",
      "fc2 (Dense)                  (None, 128)               65664     \n",
      "_________________________________________________________________\n",
      "Z_4 (Dense)                  (None, 3)                 387       \n",
      "=================================================================\n",
      "Total params: 487,745\n",
      "Trainable params: 487,745\n",
      "Non-trainable params: 0\n",
      "_________________________________________________________________\n",
      "Model: \"vgg19\"\n",
      "_________________________________________________________________\n",
      "Layer (type)                 Output Shape              Param #   \n",
      "=================================================================\n",
      "input_3 (InputLayer)         [(None, 224, 224, 3)]     0         \n",
      "_________________________________________________________________\n",
      "block1_conv1 (Conv2D)        (None, 224, 224, 2)       56        \n",
      "_________________________________________________________________\n",
      "block1_conv2 (Conv2D)        (None, 224, 224, 2)       38        \n",
      "_________________________________________________________________\n",
      "block1_pool (MaxPooling2D)   (None, 112, 112, 2)       0         \n",
      "_________________________________________________________________\n",
      "block2_conv1 (Conv2D)        (None, 112, 112, 4)       76        \n",
      "_________________________________________________________________\n",
      "block2_conv2 (Conv2D)        (None, 112, 112, 4)       148       \n",
      "_________________________________________________________________\n",
      "block2_pool (MaxPooling2D)   (None, 56, 56, 4)         0         \n",
      "_________________________________________________________________\n",
      "block3_conv1 (Conv2D)        (None, 56, 56, 8)         296       \n",
      "_________________________________________________________________\n",
      "block3_conv2 (Conv2D)        (None, 56, 56, 8)         584       \n",
      "_________________________________________________________________\n",
      "block3_conv3 (Conv2D)        (None, 56, 56, 8)         584       \n",
      "_________________________________________________________________\n",
      "block3_conv4 (Conv2D)        (None, 56, 56, 8)         584       \n",
      "_________________________________________________________________\n",
      "block3_pool (MaxPooling2D)   (None, 28, 28, 8)         0         \n",
      "_________________________________________________________________\n",
      "block4_conv1 (Conv2D)        (None, 28, 28, 16)        1168      \n",
      "_________________________________________________________________\n",
      "block4_conv2 (Conv2D)        (None, 28, 28, 16)        2320      \n",
      "_________________________________________________________________\n",
      "block4_conv3 (Conv2D)        (None, 28, 28, 16)        2320      \n",
      "_________________________________________________________________\n",
      "block4_conv4 (Conv2D)        (None, 28, 28, 16)        2320      \n",
      "_________________________________________________________________\n",
      "block4_pool (MaxPooling2D)   (None, 14, 14, 16)        0         \n",
      "_________________________________________________________________\n",
      "block5_conv1 (Conv2D)        (None, 14, 14, 16)        2320      \n",
      "_________________________________________________________________\n",
      "block5_conv2 (Conv2D)        (None, 14, 14, 16)        2320      \n",
      "_________________________________________________________________\n",
      "block5_conv3 (Conv2D)        (None, 14, 14, 16)        2320      \n",
      "_________________________________________________________________\n",
      "block5_conv4 (Conv2D)        (None, 14, 14, 16)        2320      \n",
      "_________________________________________________________________\n",
      "block5_pool (MaxPooling2D)   (None, 7, 7, 16)          0         \n",
      "_________________________________________________________________\n",
      "flatten (Flatten)            (None, 784)               0         \n",
      "_________________________________________________________________\n",
      "fc1 (Dense)                  (None, 512)               401920    \n",
      "_________________________________________________________________\n",
      "dropout_2 (Dropout)          (None, 512)               0         \n",
      "_________________________________________________________________\n",
      "fc2 (Dense)                  (None, 128)               65664     \n",
      "_________________________________________________________________\n",
      "Z_4 (Dense)                  (None, 3)                 387       \n",
      "=================================================================\n",
      "Total params: 487,745\n",
      "Trainable params: 487,745\n",
      "Non-trainable params: 0\n",
      "_________________________________________________________________\n"
     ]
    }
   ],
   "source": [
    "model = createOrRestoreModel()"
   ]
  },
  {
   "cell_type": "code",
   "execution_count": null,
   "metadata": {
    "id": "K25gbHTxv84y"
   },
   "outputs": [],
   "source": [
    "from scipy.ndimage.interpolation import zoom\n",
    "import numpy as np\n",
    "from tensorflow.keras import backend as K\n",
    "from keras.preprocessing.image import load_img, img_to_array\n",
    "\n",
    "import matplotlib.pyplot as plt\n",
    "\n",
    "def grad_cam(input_model, image, layer_name,H=360,W=360):\n",
    "    cls = np.argmax(input_model.predict(image))\n",
    "    print(cls)\n",
    "    def normalize(x):\n",
    "        \"\"\"Utility function to normalize a tensor by its L2 norm\"\"\"\n",
    "        return (x + 1e-10) / (K.sqrt(K.mean(K.square(x))) + 1e-10)\n",
    "    \"\"\"GradCAM method for visualizing input saliency.\"\"\"\n",
    "  \n",
    "    y_c = input_model.output[0, cls]\n",
    "    # with tf.GradientTape as tape:\n",
    "     \n",
    "    conv_output = input_model.get_layer(layer_name).output\n",
    "    grads = K.gradients(y_c, conv_output)[0]\n",
    "    grads = normalize(grads)\n",
    "    gradient_function = K.function([input_model.input], [conv_output, grads])\n",
    "\n",
    "    output, grads_val = gradient_function([image])\n",
    "    output, grads_val = output[0, :], grads_val[0, :, :, :]\n",
    "\n",
    "    weights = np.mean(grads_val, axis=(0, 1))\n",
    "    cam = np.dot(output, weights)\n",
    "\n",
    "    cam = np.maximum(cam, 0)\n",
    "    #cam = resize(cam, (H, W))\n",
    "    cam = zoom(cam,H/cam.shape[0])\n",
    "    #cam = np.maximum(cam, 0)\n",
    "    cam = cam / cam.max()\n",
    "    return cam\n",
    "\n",
    "def grad_cam_plus(input_model, img, layer_name,H=360,W=360):\n",
    "    cls = np.argmax(input_model.predict(img))\n",
    "    print(cls)\n",
    "    def normalize(x):\n",
    "        \"\"\"Utility function to normalize a tensor by its L2 norm\"\"\"\n",
    "        return (x + 1e-10) / (K.sqrt(K.mean(K.square(x))) + 1e-10)\n",
    "    \"\"\"GradCAM method for visualizing input saliency.\"\"\"\n",
    "    y_c = input_model.output[0, cls]\n",
    "    conv_output = input_model.get_layer(layer_name).output\n",
    "    grads = K.gradients(y_c, conv_output)[0]\n",
    "    grads = normalize(grads)\n",
    "\n",
    "    first = K.exp(y_c)*grads\n",
    "    second = K.exp(y_c)*grads*grads\n",
    "    third = K.exp(y_c)*grads*grads*grads\n",
    "\n",
    "    gradient_function = K.function([input_model.input], [y_c,first,second,third, conv_output, grads])\n",
    "    y_c, conv_first_grad, conv_second_grad,conv_third_grad, conv_output, grads_val = gradient_function([img])\n",
    "    global_sum = np.sum(conv_output[0].reshape((-1,conv_first_grad[0].shape[2])), axis=0)\n",
    "\n",
    "    alpha_num = conv_second_grad[0]\n",
    "    alpha_denom = conv_second_grad[0]*2.0 + conv_third_grad[0]*global_sum.reshape((1,1,conv_first_grad[0].shape[2]))\n",
    "    alpha_denom = np.where(alpha_denom != 0.0, alpha_denom, np.ones(alpha_denom.shape))\n",
    "    alphas = alpha_num/alpha_denom\n",
    "\n",
    "    weights = np.maximum(conv_first_grad[0], 0.0)\n",
    "\n",
    "    alpha_normalization_constant = np.sum(np.sum(alphas, axis=0),axis=0)\n",
    "\n",
    "    alphas /= alpha_normalization_constant.reshape((1,1,conv_first_grad[0].shape[2]))\n",
    "\n",
    "    deep_linearization_weights = np.sum((weights*alphas).reshape((-1,conv_first_grad[0].shape[2])),axis=0)\n",
    "    #print deep_linearization_weights\n",
    "    grad_CAM_map = np.sum(deep_linearization_weights*conv_output[0], axis=2)\n",
    "\n",
    "    # Passing through ReLU\n",
    "    cam = np.maximum(grad_CAM_map, 0)\n",
    "    cam = zoom(cam,H/cam.shape[0])\n",
    "    cam = cam / np.max(cam) # scale 0 to 1.0    \n",
    "    #cam = resize(cam, (224,224))\n",
    "\n",
    "    return cam"
   ]
  },
  {
   "cell_type": "code",
   "execution_count": null,
   "metadata": {
    "colab": {
     "base_uri": "https://localhost:8080/",
     "height": 345
    },
    "executionInfo": {
     "elapsed": 459,
     "status": "error",
     "timestamp": 1633004697451,
     "user": {
      "displayName": "Risuna Wisdom",
      "photoUrl": "https://lh3.googleusercontent.com/a-/AOh14GimlNqRpN_o9anbTg8yu0iib6mkLj125ZiN2bRIRA=s64",
      "userId": "05011745289129550000"
     },
     "user_tz": -120
    },
    "id": "jw-Zx6J_wDod",
    "outputId": "087ca3a3-93c0-4bb5-884c-e71f4aab53f6"
   },
   "outputs": [
    {
     "ename": "ValueError",
     "evalue": "ignored",
     "output_type": "error",
     "traceback": [
      "\u001b[0;31m---------------------------------------------------------------------------\u001b[0m",
      "\u001b[0;31mValueError\u001b[0m                                Traceback (most recent call last)",
      "\u001b[0;32m<ipython-input-42-5b4c42f144ff>\u001b[0m in \u001b[0;36m<module>\u001b[0;34m()\u001b[0m\n\u001b[0;32m----> 1\u001b[0;31m \u001b[0mgradCAM\u001b[0m \u001b[0;34m=\u001b[0m \u001b[0mgrad_cam\u001b[0m\u001b[0;34m(\u001b[0m\u001b[0mmodel\u001b[0m\u001b[0;34m,\u001b[0m \u001b[0mimgNormalized\u001b[0m\u001b[0;34m,\u001b[0m \u001b[0mlayer_name\u001b[0m \u001b[0;34m=\u001b[0m \u001b[0;34m'block5_conv4'\u001b[0m\u001b[0;34m,\u001b[0m\u001b[0mH\u001b[0m\u001b[0;34m=\u001b[0m\u001b[0;36m360\u001b[0m\u001b[0;34m,\u001b[0m\u001b[0mW\u001b[0m\u001b[0;34m=\u001b[0m\u001b[0;36m360\u001b[0m\u001b[0;34m)\u001b[0m \u001b[0;31m#for VGG, here there are parameters to set image width (W) and height (H)\u001b[0m\u001b[0;34m\u001b[0m\u001b[0;34m\u001b[0m\u001b[0m\n\u001b[0m\u001b[1;32m      2\u001b[0m \u001b[0mgradCAMPlus\u001b[0m \u001b[0;34m=\u001b[0m \u001b[0mgrad_cam_plus\u001b[0m\u001b[0;34m(\u001b[0m\u001b[0mmodel\u001b[0m\u001b[0;34m,\u001b[0m \u001b[0mimgNormalized\u001b[0m\u001b[0;34m,\u001b[0m \u001b[0mlayer_name\u001b[0m \u001b[0;34m=\u001b[0m \u001b[0;34m'block5_conv4'\u001b[0m\u001b[0;34m)\u001b[0m\u001b[0;34m\u001b[0m\u001b[0;34m\u001b[0m\u001b[0m\n",
      "\u001b[0;32m<ipython-input-41-5258381ffd3f>\u001b[0m in \u001b[0;36mgrad_cam\u001b[0;34m(input_model, image, layer_name, H, W)\u001b[0m\n\u001b[1;32m      7\u001b[0m \u001b[0;34m\u001b[0m\u001b[0m\n\u001b[1;32m      8\u001b[0m \u001b[0;32mdef\u001b[0m \u001b[0mgrad_cam\u001b[0m\u001b[0;34m(\u001b[0m\u001b[0minput_model\u001b[0m\u001b[0;34m,\u001b[0m \u001b[0mimage\u001b[0m\u001b[0;34m,\u001b[0m \u001b[0mlayer_name\u001b[0m\u001b[0;34m,\u001b[0m\u001b[0mH\u001b[0m\u001b[0;34m=\u001b[0m\u001b[0;36m360\u001b[0m\u001b[0;34m,\u001b[0m\u001b[0mW\u001b[0m\u001b[0;34m=\u001b[0m\u001b[0;36m360\u001b[0m\u001b[0;34m)\u001b[0m\u001b[0;34m:\u001b[0m\u001b[0;34m\u001b[0m\u001b[0;34m\u001b[0m\u001b[0m\n\u001b[0;32m----> 9\u001b[0;31m     \u001b[0mcls\u001b[0m \u001b[0;34m=\u001b[0m \u001b[0mnp\u001b[0m\u001b[0;34m.\u001b[0m\u001b[0margmax\u001b[0m\u001b[0;34m(\u001b[0m\u001b[0minput_model\u001b[0m\u001b[0;34m.\u001b[0m\u001b[0mpredict\u001b[0m\u001b[0;34m(\u001b[0m\u001b[0mimage\u001b[0m\u001b[0;34m)\u001b[0m\u001b[0;34m)\u001b[0m\u001b[0;34m\u001b[0m\u001b[0;34m\u001b[0m\u001b[0m\n\u001b[0m\u001b[1;32m     10\u001b[0m     \u001b[0mprint\u001b[0m\u001b[0;34m(\u001b[0m\u001b[0mcls\u001b[0m\u001b[0;34m)\u001b[0m\u001b[0;34m\u001b[0m\u001b[0;34m\u001b[0m\u001b[0m\n\u001b[1;32m     11\u001b[0m     \u001b[0;32mdef\u001b[0m \u001b[0mnormalize\u001b[0m\u001b[0;34m(\u001b[0m\u001b[0mx\u001b[0m\u001b[0;34m)\u001b[0m\u001b[0;34m:\u001b[0m\u001b[0;34m\u001b[0m\u001b[0;34m\u001b[0m\u001b[0m\n",
      "\u001b[0;32m/usr/local/lib/python3.7/dist-packages/keras/engine/training.py\u001b[0m in \u001b[0;36mpredict\u001b[0;34m(self, x, batch_size, verbose, steps, callbacks, max_queue_size, workers, use_multiprocessing)\u001b[0m\n\u001b[1;32m   1683\u001b[0m     \"\"\"\n\u001b[1;32m   1684\u001b[0m     \u001b[0mbase_layer\u001b[0m\u001b[0;34m.\u001b[0m\u001b[0mkeras_api_gauge\u001b[0m\u001b[0;34m.\u001b[0m\u001b[0mget_cell\u001b[0m\u001b[0;34m(\u001b[0m\u001b[0;34m'predict'\u001b[0m\u001b[0;34m)\u001b[0m\u001b[0;34m.\u001b[0m\u001b[0mset\u001b[0m\u001b[0;34m(\u001b[0m\u001b[0;32mTrue\u001b[0m\u001b[0;34m)\u001b[0m\u001b[0;34m\u001b[0m\u001b[0;34m\u001b[0m\u001b[0m\n\u001b[0;32m-> 1685\u001b[0;31m     \u001b[0mversion_utils\u001b[0m\u001b[0;34m.\u001b[0m\u001b[0mdisallow_legacy_graph\u001b[0m\u001b[0;34m(\u001b[0m\u001b[0;34m'Model'\u001b[0m\u001b[0;34m,\u001b[0m \u001b[0;34m'predict'\u001b[0m\u001b[0;34m)\u001b[0m\u001b[0;34m\u001b[0m\u001b[0;34m\u001b[0m\u001b[0m\n\u001b[0m\u001b[1;32m   1686\u001b[0m     \u001b[0mself\u001b[0m\u001b[0;34m.\u001b[0m\u001b[0m_check_call_args\u001b[0m\u001b[0;34m(\u001b[0m\u001b[0;34m'predict'\u001b[0m\u001b[0;34m)\u001b[0m\u001b[0;34m\u001b[0m\u001b[0;34m\u001b[0m\u001b[0m\n\u001b[1;32m   1687\u001b[0m     \u001b[0m_disallow_inside_tf_function\u001b[0m\u001b[0;34m(\u001b[0m\u001b[0;34m'predict'\u001b[0m\u001b[0;34m)\u001b[0m\u001b[0;34m\u001b[0m\u001b[0;34m\u001b[0m\u001b[0m\n",
      "\u001b[0;32m/usr/local/lib/python3.7/dist-packages/keras/utils/version_utils.py\u001b[0m in \u001b[0;36mdisallow_legacy_graph\u001b[0;34m(cls_name, method_name)\u001b[0m\n\u001b[1;32m    127\u001b[0m         \" call `{cls_name}.{method_name}` with eager mode enabled.\")\n\u001b[1;32m    128\u001b[0m     \u001b[0merror_msg\u001b[0m \u001b[0;34m=\u001b[0m \u001b[0merror_msg\u001b[0m\u001b[0;34m.\u001b[0m\u001b[0mformat\u001b[0m\u001b[0;34m(\u001b[0m\u001b[0mcls_name\u001b[0m\u001b[0;34m=\u001b[0m\u001b[0mcls_name\u001b[0m\u001b[0;34m,\u001b[0m \u001b[0mmethod_name\u001b[0m\u001b[0;34m=\u001b[0m\u001b[0mmethod_name\u001b[0m\u001b[0;34m)\u001b[0m\u001b[0;34m\u001b[0m\u001b[0;34m\u001b[0m\u001b[0m\n\u001b[0;32m--> 129\u001b[0;31m     \u001b[0;32mraise\u001b[0m \u001b[0mValueError\u001b[0m\u001b[0;34m(\u001b[0m\u001b[0merror_msg\u001b[0m\u001b[0;34m)\u001b[0m\u001b[0;34m\u001b[0m\u001b[0;34m\u001b[0m\u001b[0m\n\u001b[0m\u001b[1;32m    130\u001b[0m \u001b[0;34m\u001b[0m\u001b[0m\n\u001b[1;32m    131\u001b[0m \u001b[0;34m\u001b[0m\u001b[0m\n",
      "\u001b[0;31mValueError\u001b[0m: Calling `Model.predict` in graph mode is not supported when the `Model` instance was constructed with eager mode enabled. Please construct your `Model` instance in graph mode or call `Model.predict` with eager mode enabled."
     ]
    }
   ],
   "source": [
    "gradCAM = grad_cam(model, imgNormalized, layer_name = 'block5_conv4',H=360,W=360) #for VGG, here there are parameters to set image width (W) and height (H)\n",
    "gradCAMPlus = grad_cam_plus(model, imgNormalized, layer_name = 'block5_conv4')"
   ]
  },
  {
   "cell_type": "code",
   "execution_count": null,
   "metadata": {
    "colab": {
     "base_uri": "https://localhost:8080/"
    },
    "executionInfo": {
     "elapsed": 316,
     "status": "ok",
     "timestamp": 1632745333715,
     "user": {
      "displayName": "Risuna Wisdom",
      "photoUrl": "https://lh3.googleusercontent.com/a-/AOh14GimlNqRpN_o9anbTg8yu0iib6mkLj125ZiN2bRIRA=s64",
      "userId": "05011745289129550000"
     },
     "user_tz": -120
    },
    "id": "jMnCb2oE5w0g",
    "outputId": "17e8615c-25cc-4200-a589-4d64b723ddf4"
   },
   "outputs": [
    {
     "data": {
      "text/plain": [
       "[0.9727193117141724, -2.1319332122802734, 0.9130048751831055]"
      ]
     },
     "execution_count": 151,
     "metadata": {},
     "output_type": "execute_result"
    }
   ],
   "source": [
    "pred = model.predict(imgNormalized)\n",
    "\n",
    "class_prob = pred.tolist()\n",
    "softMaxProb = class_prob[0]\n",
    "\n",
    "softMaxProb"
   ]
  },
  {
   "cell_type": "code",
   "execution_count": null,
   "metadata": {
    "id": "I0joDyjBwWAF"
   },
   "outputs": [],
   "source": [
    "def remove_ticks_and_labels(ax):\n",
    "    ax.get_xaxis().set_visible(False)\n",
    "    ax.get_yaxis().set_visible(False)\n",
    "    ax.tick_params(axis='both', which='both', length=0)"
   ]
  },
  {
   "cell_type": "code",
   "execution_count": null,
   "metadata": {
    "id": "Rs05A5HC6rzY"
   },
   "outputs": [],
   "source": [
    "def decisionVisualization(img, xaiMethod, vizMethod):\n",
    "    # Add batch axis and preprocess   \n",
    "\n",
    "    fig = plt.figure(constrained_layout=False,figsize=[6,3])\n",
    "    gs1 = fig.add_gridspec(nrows=1, ncols=2, left=1, right=1.8)\n",
    "\n",
    "    fig_ax1 = fig.add_subplot(gs1[0, 0])\n",
    "    fig_ax2 = fig.add_subplot(gs1[0, 1])\n",
    "\n",
    "    gs2 = fig.add_gridspec(nrows=1, ncols=1, left=1.92, right=2.6)\n",
    "\n",
    "    fig_ax3 = fig.add_subplot(gs2[0, 0])\n",
    "\n",
    "    fig_ax1.imshow(img, cmap ='gray')\n",
    "    fig_ax1.set_title(\"Input radiograph\")\n",
    "\n",
    "    remove_ticks_and_labels(fig_ax1)\n",
    "          \n",
    "    if vizMethod == 'CAM':\n",
    "\n",
    "        fig_ax2.imshow(img, cmap ='gray')\n",
    "        fig_ax2.imshow(xaiMethod, alpha=0.45, cmap=\"jet\")\n",
    "        fig_ax2.set_title(str(vizMethod))\n",
    "        remove_ticks_and_labels(fig_ax2)\n",
    "\n",
    "        #x_probs = [0.12, 0.30, 0.48, 0.10]\n",
    "        x_probs = softMaxProb\n",
    "        x_probs = np.asarray(x_probs, dtype=np.float32)\n",
    "        y_pos = np.array([0, 1, 2])\n",
    "        y_objects = ('Type-1','Type-2','Type-3') #Infection type\n",
    "        y_labels = ['Normal', 'Bacterial', 'COVID-19 Viral']\n",
    "\n",
    "        fig_ax3.barh(y_pos, x_probs, color='blue', align='center', alpha=0.3)\n",
    "        fig_ax3.set_title(\"Explanations\")\n",
    "    \n",
    "        for i, v in enumerate(x_probs):\n",
    "            fig_ax3.text(v - 0.07, i + 0.1 , '{0:.2f}   {1}'.format(v,y_labels[i]))\n",
    "    \n",
    "        fig_ax3.set_yticks(y_pos)\n",
    "        fig_ax3.set_yticklabels(y_objects)\n",
    "        fig_ax3.invert_yaxis()  # labels read top-to-bottom\n",
    "        fig_ax3.set_xticks([0, 0.25, 0.5, 0.75])\n",
    "\n",
    "        fig.savefig('explanation.png')\n",
    "\n",
    "    if vizMethod == 'CAMPlus':\n",
    "\n",
    "        fig_ax2.imshow(img, cmap ='gray')\n",
    "        fig_ax2.imshow(xaiMethod, alpha=0.45, cmap=\"jet\")\n",
    "        fig_ax2.set_title(str(vizMethod))\n",
    "        remove_ticks_and_labels(fig_ax2)\n",
    "\n",
    "        #x_probs = [0.12, 0.30, 0.48, 0.10]\n",
    "        x_probs = softMaxProb\n",
    "        x_probs = np.asarray(x_probs, dtype=np.float32)\n",
    "        y_pos = np.array([0, 1, 2])\n",
    "        y_objects = ('Type-1','Type-2','Type-3') #Infection type\n",
    "        y_labels = ['Normal', 'Bacterial', 'Non-COVID19 Viral']\n",
    "\n",
    "        fig_ax3.barh(y_pos, x_probs, color='red', align='center', alpha=0.3)\n",
    "        fig_ax3.set_title(\"Explanations\")\n",
    "    \n",
    "        for i, v in enumerate(x_probs):\n",
    "            fig_ax3.text(v - 0.07, i + 0.1 , '{0:.2f}   {1}'.format(v,y_labels[i]))\n",
    "    \n",
    "        fig_ax3.set_yticks(y_pos)\n",
    "        fig_ax3.set_yticklabels(y_objects)\n",
    "        fig_ax3.invert_yaxis()  # labels read top-to-bottom\n",
    "        fig_ax3.set_xticks([0, 0.25, 0.5, 0.75])\n",
    "\n",
    "        fig.savefig('explanation.png')"
   ]
  },
  {
   "cell_type": "code",
   "execution_count": null,
   "metadata": {
    "colab": {
     "base_uri": "https://localhost:8080/",
     "height": 227
    },
    "executionInfo": {
     "elapsed": 1517,
     "status": "ok",
     "timestamp": 1632745539841,
     "user": {
      "displayName": "Risuna Wisdom",
      "photoUrl": "https://lh3.googleusercontent.com/a-/AOh14GimlNqRpN_o9anbTg8yu0iib6mkLj125ZiN2bRIRA=s64",
      "userId": "05011745289129550000"
     },
     "user_tz": -120
    },
    "id": "v-V1F_yk64X2",
    "outputId": "b1c9dcbb-1bdf-49e3-941d-d1c5bb51f64c"
   },
   "outputs": [
    {
     "data": {
      "image/png": "[encoded data removed]",
      "text/plain": [
       "<Figure size 432x216 with 3 Axes>"
      ]
     },
     "metadata": {},
     "output_type": "display_data"
    }
   ],
   "source": [
    "decisionVisualization(img, xaiMethod=gradCAM, vizMethod='CAM')"
   ]
  },
  {
   "cell_type": "code",
   "execution_count": null,
   "metadata": {
    "colab": {
     "base_uri": "https://localhost:8080/",
     "height": 227
    },
    "executionInfo": {
     "elapsed": 1550,
     "status": "ok",
     "timestamp": 1632745548858,
     "user": {
      "displayName": "Risuna Wisdom",
      "photoUrl": "https://lh3.googleusercontent.com/a-/AOh14GimlNqRpN_o9anbTg8yu0iib6mkLj125ZiN2bRIRA=s64",
      "userId": "05011745289129550000"
     },
     "user_tz": -120
    },
    "id": "MWH8OTUH7IfR",
    "outputId": "dbbba3e2-4f5d-4113-b64a-ccb0bd052185"
   },
   "outputs": [
    {
     "data": {
      "image/png": "[encoded data removed]",
      "text/plain": [
       "<Figure size 432x216 with 3 Axes>"
      ]
     },
     "metadata": {},
     "output_type": "display_data"
    }
   ],
   "source": [
    "decisionVisualization(img, xaiMethod=gradCAMPlus, vizMethod='CAMPlus')"
   ]
  }
 ],
 "metadata": {
  "accelerator": "GPU",
  "colab": {
   "authorship_tag": "ABX9TyM+GgZWVkKl+RAeKt4UrsnT",
   "collapsed_sections": [],
   "name": "VGG19.ipynb",
   "provenance": []
  },
  "kernelspec": {
   "display_name": "Python 3",
   "language": "python",
   "name": "python3"
  },
  "language_info": {
   "codemirror_mode": {
    "name": "ipython",
    "version": 3
   },
   "file_extension": ".py",
   "mimetype": "text/x-python",
   "name": "python",
   "nbconvert_exporter": "python",
   "pygments_lexer": "ipython3",
   "version": "3.6.10"
  }
 },
 "nbformat": 4,
 "nbformat_minor": 1
}
